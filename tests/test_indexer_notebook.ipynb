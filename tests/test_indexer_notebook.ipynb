{
 "cells": [
  {
   "cell_type": "markdown",
   "metadata": {},
   "source": [
    "# BookSouls Indexer Test\n",
    "\n",
    "Test the dual vector indexer and character profiles functionality."
   ]
  },
  {
   "cell_type": "code",
   "execution_count": 1,
   "metadata": {},
   "outputs": [],
   "source": [
    "import os\n",
    "import sys\n",
    "import json\n",
    "\n",
    "# Add parent directory to path for imports\n",
    "parent_dir = os.path.dirname(os.path.dirname(os.path.abspath('.')))\n",
    "sys.path.insert(0, parent_dir)\n",
    "\n",
    "from test_indexers import setup_indexer, load_real_data, index_data\n",
    "from config import load_test_config"
   ]
  },
  {
   "cell_type": "code",
   "execution_count": 2,
   "metadata": {},
   "outputs": [
    {
     "name": "stdout",
     "output_type": "stream",
     "text": [
      "Using OpenAI: True\n",
      "Base persist dir: ../vector_stores\n",
      "Skip indexing if exists: True\n"
     ]
    }
   ],
   "source": [
    "# Load configuration\n",
    "test_config = load_test_config()\n",
    "print(f\"Using OpenAI: {test_config.use_openai}\")\n",
    "print(f\"Base persist dir: {test_config.base_persist_dir}\")\n",
    "print(f\"Skip indexing if exists: {test_config.skip_indexing_if_exists}\")"
   ]
  },
  {
   "cell_type": "code",
   "execution_count": 3,
   "metadata": {},
   "outputs": [
    {
     "name": "stdout",
     "output_type": "stream",
     "text": [
      "🔍 Environment API key found: Yes\n",
      "🔍 Config API key found: Yes\n",
      "🔍 API key parameter: No\n",
      "🔧 Using OpenAI embeddings\n",
      "✅ Indexer setup complete\n"
     ]
    }
   ],
   "source": [
    "# Setup indexer\n",
    "indexer = setup_indexer(test_config)\n",
    "print(\"✅ Indexer setup complete\")"
   ]
  },
  {
   "cell_type": "code",
   "execution_count": 4,
   "metadata": {},
   "outputs": [
    {
     "name": "stdout",
     "output_type": "stream",
     "text": [
      "Current stats:\n",
      "  Total documents: 27\n",
      "  Narrative docs: 27\n",
      "  Dialogue docs: 0\n"
     ]
    }
   ],
   "source": [
    "# Check current stats\n",
    "stats = indexer.get_stats()\n",
    "print(f\"Current stats:\")\n",
    "print(f\"  Total documents: {stats['total_documents']}\")\n",
    "print(f\"  Narrative docs: {stats['narrative_store']['document_count']}\")\n",
    "print(f\"  Dialogue docs: {stats['dialogue_store']['document_count']}\")"
   ]
  },
  {
   "cell_type": "code",
   "execution_count": 5,
   "metadata": {},
   "outputs": [
    {
     "name": "stdout",
     "output_type": "stream",
     "text": [
      "Resetting both vector stores...\n",
      "Vector stores reset complete\n",
      "After indexing:\n",
      "  Total documents: 0\n",
      "  Narrative docs: 0\n",
      "  Dialogue docs: 0\n"
     ]
    }
   ],
   "source": [
    "# Check stats after indexing\n",
    "indexer.reset_stores()\n",
    "stats = indexer.get_stats()\n",
    "print(f\"After indexing:\")\n",
    "print(f\"  Total documents: {stats['total_documents']}\")\n",
    "print(f\"  Narrative docs: {stats['narrative_store']['document_count']}\")\n",
    "print(f\"  Dialogue docs: {stats['dialogue_store']['document_count']}\")\n",
    "\n"
   ]
  },
  {
   "cell_type": "code",
   "execution_count": 6,
   "metadata": {},
   "outputs": [
    {
     "name": "stdout",
     "output_type": "stream",
     "text": [
      "📖 Loading: section_index_20250724_101634.json\n",
      "💬 Loading: dialogue_index_1.json\n",
      "✅ Loaded 27 sections and 87 dialogues\n",
      "\n",
      "📊 Indexing data...\n",
      "Indexing narrative chunks for Author Agent...\n",
      "Narrative indexing complete: 27 chunks in 2.89s\n",
      "Indexing dialogue chunks for Character Agents...\n",
      "Dialogue indexing complete: 115 chunks in 3.72s\n",
      "✅ Indexed 27 narrative chunks\n",
      "✅ Indexed 115 dialogue chunks\n"
     ]
    }
   ],
   "source": [
    "# Load and index data (force re-index by temporarily changing config)\n",
    "original_skip = test_config.skip_indexing_if_exists\n",
    "test_config.skip_indexing_if_exists = False  # Force re-indexing\n",
    "\n",
    "indexer = index_data(indexer, test_config)"
   ]
  },
  {
   "cell_type": "code",
   "execution_count": 7,
   "metadata": {},
   "outputs": [
    {
     "name": "stdout",
     "output_type": "stream",
     "text": [
      "Testing character profiles query...\n",
      "Results structure: ['query', 'character_filter', 'results', 'store_type']\n"
     ]
    }
   ],
   "source": [
    "# Test character profiles query\n",
    "print(\"Testing character profiles query...\")\n",
    "results = indexer.query_character_profiles(\"bilbo\", n_results=1)\n",
    "print(f\"Results structure: {list(results.keys())}\")\n"
   ]
  },
  {
   "cell_type": "code",
   "execution_count": 8,
   "metadata": {},
   "outputs": [
    {
     "name": "stdout",
     "output_type": "stream",
     "text": [
      "{\n",
      "  \"name\": \"Bilbo\",\n",
      "  \"chapter_number\": 1,\n",
      "  \"personality_traits\": [\n",
      "    {\n",
      "      \"trait\": \"curious\",\n",
      "      \"manifestation\": \"yearns for adventure and new experiences\",\n",
      "      \"contradiction\": \"but feels a strong attachment to home and comfort\"\n",
      "    },\n",
      "    {\n",
      "      \"trait\": \"humorous\",\n",
      "      \"manifestation\": \"uses wit to engage guests and lighten the mood\",\n",
      "      \"contradiction\": \"but struggles with deeper feelings of anxiety and uncertainty\"\n",
      "    },\n",
      "    {\n",
      "      \"trait\": \"defensive\",\n",
      "      \"manifestation\": \"stands firm about his possessions and choices\",\n",
      "      \"contradiction\": \"but reveals vulnerability when discussing his age and desires\"\n",
      "    }\n",
      "  ],\n",
      "  \"motivations\": [],\n",
      "  \"speech_style\": {\n",
      "    \"vocabulary\": \"mixed\",\n",
      "    \"sentence_style\": \"elaborate with whimsical flourishes, interspersed with short, punchy statements\",\n",
      "    \"verbal_tics\": [\n",
      "      \"you know\",\n",
      "      \"I mean\",\n",
      "      \"of course\"\n",
      "    ],\n",
      "    \"unique_phrases\": [\n",
      "      \"eleventy-one\",\n",
      "      \"my dear Bagginses and Bof\\ufb01ns\"\n",
      "    ],\n",
      "    \"avoids_discussing\": [\n",
      "      \"his past adventures\",\n",
      "      \"the burden of the ring\"\n",
      "    ]\n",
      "  },\n",
      "  \"dialogue_count\": 21,\n",
      "  \"key_relationships\": {\n",
      "    \"Frodo\": {\n",
      "      \"dynamic\": \"mentor and guardian\",\n",
      "      \"power\": \"protective yet encourages independence\",\n",
      "      \"unspoken\": \"concern for Frodo's future without him\",\n",
      "      \"trust_level\": 9\n",
      "    },\n",
      "    \"Gandalf\": {\n",
      "      \"dynamic\": \"old friend and advisor\",\n",
      "      \"power\": \"respects Gandalf's wisdom but resents interference\",\n",
      "      \"unspoken\": \"seeks validation for his choices\",\n",
      "      \"trust_level\": 10\n",
      "    }\n",
      "  },\n",
      "  \"emotional_state\": \"excited yet anxious about leaving\"\n",
      "}\n"
     ]
    }
   ],
   "source": [
    "query_results = results['results']\n",
    "\n",
    "\n",
    "print(query_results['documents'][0][0])"
   ]
  },
  {
   "cell_type": "code",
   "execution_count": null,
   "metadata": {},
   "outputs": [],
   "source": [
    "# Check what's actually in the dialogue store\n",
    "dialogue_results = indexer.query_dialogue(\"*\", n_results=10)\n",
    "if 'results' in dialogue_results:\n",
    "    query_results = dialogue_results['results']\n",
    "    ids = query_results.get('ids', [[]])[0]\n",
    "    print(f\"Total dialogue docs: {len(ids)}\")\n",
    "    \n",
    "    # Check for character profile types\n",
    "    profile_docs = []\n",
    "    for i, doc_id in enumerate(ids):\n",
    "        if 'metadatas' in query_results and i < len(query_results['metadatas'][0]):\n",
    "            metadata = query_results['metadatas'][0][i]\n",
    "            if metadata.get('type') == 'character_profile':\n",
    "                profile_docs.append(doc_id)\n",
    "    \n",
    "    print(f\"Character profile docs found: {len(profile_docs)}\")\n",
    "    for doc_id in profile_docs[:5]:\n",
    "        print(f\"  - {doc_id}\")"
   ]
  },
  {
   "cell_type": "code",
   "execution_count": null,
   "metadata": {},
   "outputs": [],
   "source": [
    "# Debug: Check raw dialogue data for character profiles\n",
    "section_index, dialogue_index = load_real_data(test_config)\n",
    "\n",
    "print(f\"Dialogue index character_profiles keys: {list(dialogue_index.character_profiles.keys()) if dialogue_index.character_profiles else 'None'}\")\n",
    "print(f\"Total character profiles: {len(dialogue_index.character_profiles) if dialogue_index.character_profiles else 0}\")\n",
    "\n",
    "# Show first few character profiles\n",
    "if dialogue_index.character_profiles:\n",
    "    for char, profiles in list(dialogue_index.character_profiles.items())[:3]:\n",
    "        print(f\"\\nCharacter: {char}\")\n",
    "        print(f\"  Profiles: {len(profiles)}\")\n",
    "        if profiles:\n",
    "            profile = profiles[0]\n",
    "            print(f\"  First profile: {profile.personality_traits[:100]}...\")"
   ]
  },
  {
   "cell_type": "code",
   "execution_count": null,
   "metadata": {},
   "outputs": [],
   "source": [
    "# Test other query methods\n",
    "print(\"Testing narrative query:\")\n",
    "narrative_results = indexer.query_narrative(\"adventure\", n_results=3)\n",
    "if 'results' in narrative_results:\n",
    "    ids = narrative_results['results'].get('ids', [[]])[0]\n",
    "    print(f\"Found {len(ids)} narrative results\")\n",
    "\n",
    "print(\"\\nTesting dialogue query:\")\n",
    "dialogue_results = indexer.query_dialogue(\"hello\", n_results=3)\n",
    "if 'results' in dialogue_results:\n",
    "    ids = dialogue_results['results'].get('ids', [[]])[0]\n",
    "    print(f\"Found {len(ids)} dialogue results\")"
   ]
  }
 ],
 "metadata": {
  "kernelspec": {
   "display_name": ".venv",
   "language": "python",
   "name": "python3"
  },
  "language_info": {
   "codemirror_mode": {
    "name": "ipython",
    "version": 3
   },
   "file_extension": ".py",
   "mimetype": "text/x-python",
   "name": "python",
   "nbconvert_exporter": "python",
   "pygments_lexer": "ipython3",
   "version": "3.11.0"
  }
 },
 "nbformat": 4,
 "nbformat_minor": 4
}
